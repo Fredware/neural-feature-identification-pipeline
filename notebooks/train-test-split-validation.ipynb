{
 "cells": [
  {
   "metadata": {
    "ExecuteTime": {
     "end_time": "2025-10-20T03:58:23.375611Z",
     "start_time": "2025-10-20T03:58:23.367937Z"
    }
   },
   "cell_type": "code",
   "source": [
    "import altair as alt\n",
    "import h5py\n",
    "from pathlib import Path\n",
    "import numpy as np\n",
    "import polars as pl\n",
    "import yaml\n",
    "from tqdm import tqdm\n",
    "import pprint\n",
    "import random\n",
    "import sys\n",
    "print(sys.executable)\n",
    "alt.data_transformers.enable(\"vegafusion\")"
   ],
   "id": "92d107c28ba77e13",
   "outputs": [
    {
     "name": "stdout",
     "output_type": "stream",
     "text": [
      "C:\\Users\\f0397\\miniforge3\\envs\\neural-feature-identification-pipeline\\python.exe\n"
     ]
    },
    {
     "data": {
      "text/plain": [
       "DataTransformerRegistry.enable('vegafusion')"
      ]
     },
     "execution_count": 16,
     "metadata": {},
     "output_type": "execute_result"
    }
   ],
   "execution_count": 16
  },
  {
   "metadata": {
    "ExecuteTime": {
     "end_time": "2025-10-20T03:58:23.435430Z",
     "start_time": "2025-10-20T03:58:23.430333Z"
    }
   },
   "cell_type": "code",
   "source": [
    "def load_project_config(config_path: Path) -> dict:\n",
    "    with open(config_path, \"r\") as f:\n",
    "        return yaml.safe_load(f)"
   ],
   "id": "af729026f7aefd5e",
   "outputs": [],
   "execution_count": 17
  },
  {
   "metadata": {
    "ExecuteTime": {
     "end_time": "2025-10-20T03:58:23.449371Z",
     "start_time": "2025-10-20T03:58:23.444672Z"
    }
   },
   "cell_type": "code",
   "source": [
    "def read_hdf_datasets(filepath: Path, keys: list[str]) -> dict:\n",
    "    \"\"\"\n",
    "    Reads specified datasets from a single HDF5 file.\n",
    "    :param filepath:\n",
    "    :param keys:\n",
    "    :return:\n",
    "    \"\"\"\n",
    "    if not filepath.exists():\n",
    "        print(f\"Warning File not found at {filepath}. Skipping.\")\n",
    "        return {}\n",
    "\n",
    "    data = {}\n",
    "    with h5py.File(filepath, 'r') as f:\n",
    "        for key in keys:\n",
    "            if key in f:\n",
    "                data[key] = f[key][:]\n",
    "            else:\n",
    "                print(f\"Warning. Key '{key}' not found in {filepath.name}.\")\n",
    "    return data"
   ],
   "id": "e57a9efbd8df5000",
   "outputs": [],
   "execution_count": 18
  },
  {
   "metadata": {
    "ExecuteTime": {
     "end_time": "2025-10-20T03:58:23.465734Z",
     "start_time": "2025-10-20T03:58:23.456658Z"
    }
   },
   "cell_type": "code",
   "source": [
    "def tidy_and_transform_data(session_data: dict, project_config: dict) -> pl.DataFrame:\n",
    "    \"\"\"\n",
    "    Structures the data into a tidy, long-format DataFrame for VIS with Altair.\n",
    "    Transforms the data for VIS by downsampling and applying a normalization transformation to each channel.\n",
    "    :param project_config:\n",
    "    :param session_data:\n",
    "    :return:\n",
    "    \"\"\"\n",
    "    # Create initial nested DataFrame\n",
    "    df_constructor = {\n",
    "        'timestamps': all_data['kinematics']['nip_time'].T,\n",
    "        'kinematics': all_data['kinematics']['kinematics'].T,\n",
    "    }\n",
    "    feature_names = project_config['analysis']['feature_sets']\n",
    "    for name in feature_names:\n",
    "        key_name = name.lower()\n",
    "        if 'features' in session_data.get(key_name, {}):\n",
    "            df_constructor[name] = session_data[key_name]['features'].T\n",
    "    nested_df = pl.DataFrame(df_constructor)\n",
    "\n",
    "    # Flatten timestamp column\n",
    "    flat_df = nested_df.explode('timestamps')\n",
    "\n",
    "    # Dynamically create expression to unnest each array column into individual columns\n",
    "    unnested_expressions = []\n",
    "    for name in ['kinematics'] + feature_names:\n",
    "        col_name = name if name != 'kinematics' else 'kinematics'\n",
    "        if col_name in flat_df.columns:\n",
    "            list_len = flat_df.select(pl.col(col_name).arr.len().first()).item()\n",
    "            if list_len is not None:\n",
    "                unnested_expressions.extend(\n",
    "                    [pl.col(col_name).arr.get(i).alias(f\"{name}_{i+1}\") for i in range(list_len)]\n",
    "                )\n",
    "\n",
    "    # Build the wide DataFrame by applying the unnesting expressions\n",
    "    wide_df = flat_df.select(\n",
    "        pl.col('timestamps'),\n",
    "        *unnested_expressions\n",
    "    )\n",
    "\n",
    "    # Aggregate/downsample data to prevent browser memory issues\n",
    "    print(f\"Original data has {len(wide_df)} timestamps\")\n",
    "    plt_point_count = project_config['vis']['num_of_x_points']\n",
    "    time_range = wide_df['timestamps'].max() - wide_df['timestamps'].min()\n",
    "    resampling_interval = time_range / plt_point_count\n",
    "    if resampling_interval < 1: resampling_interval = 1\n",
    "    print(f\"Resampling data by averaging over {resampling_interval:0.2f} timestamp units\")\n",
    "    wide_df_resampled = wide_df.group_by(\n",
    "        (pl.col(\"timestamps\") // resampling_interval).alias(\"time_bin\")\n",
    "    ).agg(pl.all().mean()).drop(\"time_bin\")\n",
    "    print(f\"Resampled data has {len(wide_df_resampled)} timestamps\")\n",
    "\n",
    "    # Melt (wide2long/unpivot transform) the wide DataFrame into a long, tidy format\n",
    "    tidy_df = wide_df_resampled.unpivot(index=['timestamps'], variable_name='feature_id', value_name='value')\n",
    "\n",
    "    # Add a column for easy filtering ('feature_type': 'kinematics', 'nfr', ...)\n",
    "    tidy_df = tidy_df.with_columns(\n",
    "        pl.col('feature_id').str.split_exact(by='_', n=1).struct.field('field_0').alias('feature_type')\n",
    "    )\n",
    "\n",
    "    # Channel by channel normalization to improve heatmap visibility\n",
    "    kinematics_df  = tidy_df.filter(pl.col('feature_type') == 'kinematics')\n",
    "    features_df = tidy_df.filter(pl.col('feature_type') != 'kinematics')\n",
    "    features_df_normalized = features_df.with_columns(\n",
    "        min_val=pl.min('value').over('feature_id'),\n",
    "        max_val=pl.max('value').over('feature_id')\n",
    "    ).with_columns(\n",
    "        range_val=(pl.col('max_val') - pl.col('min_val'))\n",
    "    ).with_columns(\n",
    "        norm_val=pl.when(pl.col('range_val')>0)\n",
    "                 .then((pl.col('value') - pl.col('min_val')) / pl.col('range_val'))\n",
    "                 .otherwise(0.0)\n",
    "    ).with_columns(\n",
    "        value=(pl.col('norm_val') * pl.col('max_val').sqrt()).fill_nan(0)\n",
    "    ).drop('min_val', 'max_val', 'range_val', 'norm_val')\n",
    "    tidy_df_transformed = pl.concat([kinematics_df, features_df_normalized])\n",
    "\n",
    "    return tidy_df_transformed"
   ],
   "id": "5a5bf042fed41503",
   "outputs": [],
   "execution_count": 19
  },
  {
   "metadata": {
    "ExecuteTime": {
     "end_time": "2025-10-20T03:58:23.478580Z",
     "start_time": "2025-10-20T03:58:23.472647Z"
    }
   },
   "cell_type": "code",
   "source": [
    "def make_kinematics_plot(plt_df: pl.DataFrame, project_config: dict, x_domain: list) -> alt.Chart():\n",
    "    \"\"\"\n",
    "    Creates a stacked line chart of the kinematic labels\n",
    "    :param plt_df:\n",
    "    :param project_config:\n",
    "    :return:\n",
    "    \"\"\"\n",
    "    kinematics_df = plt_df.filter(pl.col('feature_type') == 'kinematics')\n",
    "    plt_offset = project_config['vis']['kinematics_offset']\n",
    "    kinematics_df_offset = kinematics_df.with_columns(\n",
    "        pl.col('feature_id').str.split_exact(by='_', n=1).struct.field('field_1').cast(pl.Int32).alias('dof_id')\n",
    "    ).with_columns(\n",
    "        (pl.col('value') + (pl.col('dof_id')*plt_offset)).alias('plot_value')\n",
    "    )\n",
    "    plt_kinematics =  alt.Chart(kinematics_df_offset).mark_line().encode(\n",
    "        x=alt.X('timestamps:Q', title='Time (NIP Units)', scale=alt.Scale(zero=False, domain=x_domain)),\n",
    "        y=alt.Y('plot_value:Q', title='Kinematic Position (Offset)', axis=alt.Axis(labels=False, ticks=False, grid=False)),\n",
    "        color=alt.Color('feature_id:N', title=\"DOF ID\", sort=alt.EncodingSortField(field='dof_id', order='descending')),\n",
    "    ).properties(\n",
    "        width=1800,\n",
    "        height=360,\n",
    "    )\n",
    "\n",
    "    return plt_kinematics\n",
    "\n",
    "def make_event_markers_plot(trial_start_stamps: np.ndarray, trial_stop_stamps: np.ndarray, x_domain: list) -> alt.Chart():\n",
    "    starts_df = pl.DataFrame({'timestamp': trial_start_stamps.flatten(), 'event': 'start'})\n",
    "    stops_df = pl.DataFrame({'timestamp': trial_stop_stamps.flatten(), 'event': 'stop'})\n",
    "    events_df = pl.concat([starts_df, stops_df])\n",
    "    plt_event_markers = alt.Chart(events_df).mark_rule(strokeDash=[4, 4], size=2).encode(\n",
    "        x=alt.X('timestamp:Q', scale=alt.Scale(zero=False, domain=x_domain)),\n",
    "        color=alt.Color(\n",
    "            'event:N',\n",
    "            scale=alt.Scale(domain=['start', 'stop'], range=['green', 'red']),\n",
    "        )\n",
    "    ).properties(\n",
    "        width=1800,\n",
    "        height=36,\n",
    "    )\n",
    "\n",
    "\n",
    "    return plt_event_markers"
   ],
   "id": "60ce4b9bcb8395e1",
   "outputs": [],
   "execution_count": 20
  },
  {
   "metadata": {
    "ExecuteTime": {
     "end_time": "2025-10-20T03:58:23.494449Z",
     "start_time": "2025-10-20T03:58:23.487073Z"
    }
   },
   "cell_type": "code",
   "source": [
    "def make_features_heatmap(plt_df: pl.DataFrame, feature_type: str, color_scheme: str, selected_chans: list[str] = None) -> alt.Chart:\n",
    "    feature_data = plt_df.filter(pl.col('feature_type') == feature_type)\n",
    "\n",
    "    if selected_chans:\n",
    "        feature_data = feature_data.filter(pl.col('feature_id').is_in(selected_chans))\n",
    "\n",
    "    return alt.Chart(feature_data).mark_rect().encode(\n",
    "        x=alt.X('timestamps:Q', title='Time (NIP Units)', scale=alt.Scale(zero=False)),\n",
    "        y=alt.Y('feature_id:O', title='Feature Index', sort=None, axis=alt.Axis(labels=False, ticks=False)),\n",
    "        detail='feature_id:N',\n",
    "    ).properties(\n",
    "        title=f'{feature_type.upper()} Features Vs NIP Time',\n",
    "        width=1800,\n",
    "        height=720\n",
    "    )\n",
    "\n",
    "def make_feature_line_plot(plt_df: pl.DataFrame, feature_type: str, selected_channels: list[str] = None, x_domain: list = None) -> alt.Chart:\n",
    "    \"\"\"\n",
    "    Create a line chart for a given feature set with superimposed, transparent channels\n",
    "    :param plt_df:\n",
    "    :param feature_type:\n",
    "    :return:\n",
    "    \"\"\"\n",
    "    feature_data = plt_df.filter(pl.col('feature_type') == feature_type)\n",
    "\n",
    "    # Apply subsampling if a list of selected channels is provided. Intended for the DWT feature set\n",
    "    if selected_channels:\n",
    "        feature_data = feature_data.filter(pl.col('feature_id').is_in(selected_channels))\n",
    "\n",
    "    return alt.Chart(feature_data).mark_line(opacity=0.12).encode(\n",
    "        x=alt.X('timestamps:Q', title='Time (NIP Units)', scale=alt.Scale(zero=False, domain=x_domain)),\n",
    "        y=alt.Y('value:Q', title=f'{feature_type.upper()} Normalized Activation', axis=alt.Axis(labels=False, ticks=False,grid=False)),\n",
    "        detail='feature_id:N',\n",
    "    ).properties(width=1800, height=360)\n"
   ],
   "id": "1a44973377246c8f",
   "outputs": [],
   "execution_count": 21
  },
  {
   "metadata": {
    "ExecuteTime": {
     "end_time": "2025-10-20T03:58:23.626316Z",
     "start_time": "2025-10-20T03:58:23.502647Z"
    }
   },
   "cell_type": "code",
   "source": [
    "#def main():\n",
    "config = load_project_config(Path(\"../config.yaml\"))\n",
    "BASE_DIR = Path(\"C:/Users/f0397/Desktop/75\")\n",
    "\n",
    "files_to_load = {\n",
    "    'events': {'path': BASE_DIR / \"events.h5\", 'keys': ['trial_start_idxs', 'trial_stop_idxs']},\n",
    "    'kinematics': {'path': BASE_DIR / \"kinematics.h5\", 'keys': ['kinematics', 'nip_time']},\n",
    "}\n",
    "for feature_name in config['analysis']['feature_sets']:\n",
    "    key_name = feature_name.lower()\n",
    "    files_to_load[key_name] = {'path': BASE_DIR / \"features\" / f\"{feature_name}.h5\", 'keys': ['features']}\n",
    "\n",
    "all_data = {}\n",
    "for name, details in tqdm(files_to_load.items(), desc='Loading data files'):\n",
    "    all_data[name] = read_hdf_datasets(details['path'], details['keys'])"
   ],
   "id": "862319135938c293",
   "outputs": [
    {
     "name": "stderr",
     "output_type": "stream",
     "text": [
      "Loading data files: 100%|██████████| 6/6 [00:00<00:00, 62.96it/s]\n"
     ]
    }
   ],
   "execution_count": 22
  },
  {
   "metadata": {
    "ExecuteTime": {
     "end_time": "2025-10-20T03:58:24.472630Z",
     "start_time": "2025-10-20T03:58:23.633479Z"
    }
   },
   "cell_type": "code",
   "source": [
    "tidy_df = tidy_and_transform_data(all_data, config)\n",
    "print(tidy_df['feature_type'].unique())\n",
    "tidy_df"
   ],
   "id": "c180b4ceb44992ac",
   "outputs": [
    {
     "name": "stdout",
     "output_type": "stream",
     "text": [
      "Original data has 13586 timestamps\n",
      "Resampling data by averaging over 20384.84 timestamp units\n",
      "Resampled data has 661 timestamps\n",
      "shape: (5,)\n",
      "Series: 'feature_type' [str]\n",
      "[\n",
      "\t\"DWT-DB4\"\n",
      "\t\"kinematics\"\n",
      "\t\"NFR\"\n",
      "\t\"SBP-RAW\"\n",
      "\t\"MAV\"\n",
      "]\n"
     ]
    },
    {
     "data": {
      "text/plain": [
       "shape: (1_657_788, 4)\n",
       "┌─────────────┬──────────────┬──────────┬──────────────┐\n",
       "│ timestamps  ┆ feature_id   ┆ value    ┆ feature_type │\n",
       "│ ---         ┆ ---          ┆ ---      ┆ ---          │\n",
       "│ f64         ┆ str          ┆ f64      ┆ str          │\n",
       "╞═════════════╪══════════════╪══════════╪══════════════╡\n",
       "│ 4.1452e7    ┆ kinematics_1 ┆ 0.0      ┆ kinematics   │\n",
       "│ 4.1004e7    ┆ kinematics_1 ┆ 0.0      ┆ kinematics   │\n",
       "│ 4.3002e7    ┆ kinematics_1 ┆ 0.0      ┆ kinematics   │\n",
       "│ 3.7029e7    ┆ kinematics_1 ┆ 0.0      ┆ kinematics   │\n",
       "│ 3.9720e7    ┆ kinematics_1 ┆ 0.0      ┆ kinematics   │\n",
       "│ …           ┆ …            ┆ …        ┆ …            │\n",
       "│ 4.2227444e7 ┆ MAV_192      ┆ 0.471449 ┆ MAV          │\n",
       "│ 3.2728e7    ┆ MAV_192      ┆ 0.305229 ┆ MAV          │\n",
       "│ 3.8436e7    ┆ MAV_192      ┆ 0.363485 ┆ MAV          │\n",
       "│ 4.3124e7    ┆ MAV_192      ┆ 0.46972  ┆ MAV          │\n",
       "│ 3.4521853e7 ┆ MAV_192      ┆ 0.237767 ┆ MAV          │\n",
       "└─────────────┴──────────────┴──────────┴──────────────┘"
      ],
      "text/html": [
       "<div><style>\n",
       ".dataframe > thead > tr,\n",
       ".dataframe > tbody > tr {\n",
       "  text-align: right;\n",
       "  white-space: pre-wrap;\n",
       "}\n",
       "</style>\n",
       "<small>shape: (1_657_788, 4)</small><table border=\"1\" class=\"dataframe\"><thead><tr><th>timestamps</th><th>feature_id</th><th>value</th><th>feature_type</th></tr><tr><td>f64</td><td>str</td><td>f64</td><td>str</td></tr></thead><tbody><tr><td>4.1452e7</td><td>&quot;kinematics_1&quot;</td><td>0.0</td><td>&quot;kinematics&quot;</td></tr><tr><td>4.1004e7</td><td>&quot;kinematics_1&quot;</td><td>0.0</td><td>&quot;kinematics&quot;</td></tr><tr><td>4.3002e7</td><td>&quot;kinematics_1&quot;</td><td>0.0</td><td>&quot;kinematics&quot;</td></tr><tr><td>3.7029e7</td><td>&quot;kinematics_1&quot;</td><td>0.0</td><td>&quot;kinematics&quot;</td></tr><tr><td>3.9720e7</td><td>&quot;kinematics_1&quot;</td><td>0.0</td><td>&quot;kinematics&quot;</td></tr><tr><td>&hellip;</td><td>&hellip;</td><td>&hellip;</td><td>&hellip;</td></tr><tr><td>4.2227444e7</td><td>&quot;MAV_192&quot;</td><td>0.471449</td><td>&quot;MAV&quot;</td></tr><tr><td>3.2728e7</td><td>&quot;MAV_192&quot;</td><td>0.305229</td><td>&quot;MAV&quot;</td></tr><tr><td>3.8436e7</td><td>&quot;MAV_192&quot;</td><td>0.363485</td><td>&quot;MAV&quot;</td></tr><tr><td>4.3124e7</td><td>&quot;MAV_192&quot;</td><td>0.46972</td><td>&quot;MAV&quot;</td></tr><tr><td>3.4521853e7</td><td>&quot;MAV_192&quot;</td><td>0.237767</td><td>&quot;MAV&quot;</td></tr></tbody></table></div>"
      ]
     },
     "execution_count": 23,
     "metadata": {},
     "output_type": "execute_result"
    }
   ],
   "execution_count": 23
  },
  {
   "metadata": {
    "ExecuteTime": {
     "end_time": "2025-10-20T03:58:24.517122Z",
     "start_time": "2025-10-20T03:58:24.480252Z"
    }
   },
   "cell_type": "code",
   "source": [
    "random.seed(42)\n",
    "selected_channels_map = {}\n",
    "dwt_subsample_count = config['vis']['dwt_subsample_count']\n",
    "dwt_df = tidy_df.filter(pl.col('feature_type') == 'DWT-DB4')\n",
    "all_dwt_channels = dwt_df.get_column('feature_id').unique().to_list()\n",
    "if len(all_dwt_channels) > dwt_subsample_count:\n",
    "    selected_channels_map['dwt-db4'] = random.sample(all_dwt_channels, dwt_subsample_count)"
   ],
   "id": "2eee72225b64c99d",
   "outputs": [],
   "execution_count": 24
  },
  {
   "metadata": {
    "ExecuteTime": {
     "end_time": "2025-10-20T03:58:24.527582Z",
     "start_time": "2025-10-20T03:58:24.523071Z"
    }
   },
   "cell_type": "code",
   "source": [
    "start_stamps = all_data.get('events', {}).get('trial_start_idxs', np.array([]))\n",
    "stop_stamps = all_data.get('events', {}).get('trial_stop_idxs', np.array([]))"
   ],
   "id": "b3002e213bee035",
   "outputs": [],
   "execution_count": 25
  },
  {
   "metadata": {
    "ExecuteTime": {
     "end_time": "2025-10-20T03:58:24.546174Z",
     "start_time": "2025-10-20T03:58:24.537716Z"
    }
   },
   "cell_type": "code",
   "source": [
    "x_domain = [tidy_df['timestamps'].min(), tidy_df['timestamps'].max()]\n",
    "x_domain"
   ],
   "id": "79ba2d236acbac9c",
   "outputs": [
    {
     "data": {
      "text/plain": [
       "[31978596.6, 45423141.45454545]"
      ]
     },
     "execution_count": 26,
     "metadata": {},
     "output_type": "execute_result"
    }
   ],
   "execution_count": 26
  },
  {
   "metadata": {
    "ExecuteTime": {
     "end_time": "2025-10-20T03:58:24.631839Z",
     "start_time": "2025-10-20T03:58:24.577293Z"
    }
   },
   "cell_type": "code",
   "source": [
    "plt_kinematics = make_kinematics_plot(tidy_df, config, x_domain=x_domain)\n",
    "plt_events = make_event_markers_plot(start_stamps, stop_stamps, x_domain=x_domain)\n",
    "plt_features = []\n",
    "for f_name in config['analysis']['feature_sets']:\n",
    "    feature_key = f_name.lower()\n",
    "    selected_channels = selected_channels_map.get(feature_key)\n",
    "    plt = make_feature_line_plot(tidy_df, f_name, selected_channels, x_domain=x_domain)\n",
    "    plt_features.append(plt)"
   ],
   "id": "dac3d8dd84a89c4e",
   "outputs": [],
   "execution_count": 27
  },
  {
   "metadata": {
    "ExecuteTime": {
     "end_time": "2025-10-20T03:58:24.648890Z",
     "start_time": "2025-10-20T03:58:24.639106Z"
    }
   },
   "cell_type": "code",
   "source": [
    "final_chart = alt.vconcat(\n",
    "    plt_kinematics,\n",
    "    plt_events,\n",
    "    *plt_features,\n",
    ").resolve_scale(\n",
    "    color='independent',\n",
    ").properties(\n",
    ")"
   ],
   "id": "7b411a7c7f0d7aaf",
   "outputs": [],
   "execution_count": 28
  },
  {
   "metadata": {
    "ExecuteTime": {
     "end_time": "2025-10-20T03:58:27.682395Z",
     "start_time": "2025-10-20T03:58:24.656706Z"
    }
   },
   "cell_type": "code",
   "source": "final_chart.save(\"session_vis.html\")",
   "id": "925074c31d3996a2",
   "outputs": [],
   "execution_count": 29
  }
 ],
 "metadata": {
  "kernelspec": {
   "display_name": "Python (Neural Features Pipeline)",
   "language": "python",
   "name": "neural-feature-identification-pipeline"
  },
  "language_info": {
   "codemirror_mode": {
    "name": "ipython",
    "version": 3
   },
   "file_extension": ".py",
   "mimetype": "text/x-python",
   "name": "python",
   "nbconvert_exporter": "python",
   "pygments_lexer": "ipython3",
   "version": "3.13.8"
  }
 },
 "nbformat": 4,
 "nbformat_minor": 5
}
